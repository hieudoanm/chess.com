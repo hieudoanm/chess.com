{
 "cells": [
  {
   "attachments": {},
   "cell_type": "markdown",
   "metadata": {},
   "source": [
    "# chess.com"
   ]
  },
  {
   "cell_type": "code",
   "execution_count": 1,
   "metadata": {},
   "outputs": [],
   "source": [
    "import pandas\n",
    "import requests\n",
    "from tqdm.notebook import tqdm"
   ]
  },
  {
   "cell_type": "code",
   "execution_count": 2,
   "metadata": {},
   "outputs": [],
   "source": [
    "API = \"https://api.chess.com/pub\""
   ]
  },
  {
   "attachments": {},
   "cell_type": "markdown",
   "metadata": {},
   "source": [
    "## Get Titled Players"
   ]
  },
  {
   "cell_type": "code",
   "execution_count": 3,
   "metadata": {},
   "outputs": [
    {
     "data": {
      "application/vnd.jupyter.widget-view+json": {
       "model_id": "bf2748ec019642068fab516ce9d9a683",
       "version_major": 2,
       "version_minor": 0
      },
      "text/plain": [
       "  0%|          | 0/10 [00:00<?, ?it/s]"
      ]
     },
     "metadata": {},
     "output_type": "display_data"
    }
   ],
   "source": [
    "title_abbreviations = [\"GM\", \"WGM\", \"IM\", \"WIM\", \"FM\", \"WFM\", \"NM\", \"WNM\", \"CM\", \"WCM\"]\n",
    "\n",
    "title_players = []\n",
    "\n",
    "for title_abbreviation in tqdm(title_abbreviations):\n",
    "    url = f\"{API}/titled/{title_abbreviation}\"\n",
    "    response = requests.get(url)\n",
    "    data = response.json()\n",
    "    players = data[\"players\"]\n",
    "    for player in players:\n",
    "        title_players.append({\n",
    "            \"username\": player,\n",
    "            \"title_abbreviation\": title_abbreviation\n",
    "        })\n",
    "\n",
    "title_players_data_frame = pandas.DataFrame.from_dict(title_players)\n",
    "title_players_data_frame.to_csv(r'data/csv/title_players.csv', index = False, header = True)"
   ]
  },
  {
   "attachments": {},
   "cell_type": "markdown",
   "metadata": {},
   "source": [
    "# Get Titled Profiles"
   ]
  },
  {
   "cell_type": "code",
   "execution_count": 4,
   "metadata": {},
   "outputs": [
    {
     "data": {
      "application/vnd.jupyter.widget-view+json": {
       "model_id": "a848486aa0d344efb2d24047b442f1a2",
       "version_major": 2,
       "version_minor": 0
      },
      "text/plain": [
       "  0%|          | 0/11144 [00:00<?, ?it/s]"
      ]
     },
     "metadata": {},
     "output_type": "display_data"
    },
    {
     "name": "stdout",
     "output_type": "stream",
     "text": [
      "429\n"
     ]
    }
   ],
   "source": [
    "title_profiles = []\n",
    "\n",
    "for title_player in tqdm(title_players):\n",
    "    username: str = title_player[\"username\"]\n",
    "    title: str = title_player[\"title_abbreviation\"]\n",
    "    profile_url = f\"{API}/player/{username}\"\n",
    "    try:\n",
    "        response = requests.get(profile_url)\n",
    "        if response.status_code == 200:\n",
    "            profile = response.json()\n",
    "            title_profiles.append(profile)\n",
    "        else:\n",
    "            title_profiles.append({\n",
    "                \"username\": username,\n",
    "                \"title\": title\n",
    "            })\n",
    "            print(response.status_code)\n",
    "    except:\n",
    "        title_profiles.append({\n",
    "            \"username\": username,\n",
    "            \"title\": title\n",
    "        })\n",
    "        print(\"Error\")\n",
    "\n",
    "title_profiles_data_frame = pandas.DataFrame.from_dict(title_profiles)\n",
    "title_profiles_data_frame.to_csv(r'data/csv/title_profiles.csv', index = False, header = True)"
   ]
  },
  {
   "attachments": {},
   "cell_type": "markdown",
   "metadata": {},
   "source": [
    "## Get Title Stats"
   ]
  },
  {
   "cell_type": "code",
   "execution_count": null,
   "metadata": {},
   "outputs": [],
   "source": [
    "title_stats = []\n",
    "\n",
    "for title_profile in tqdm(title_profiles):\n",
    "    username: str = title_profile[\"username\"]\n",
    "    stats_url = f\"{API}/player/{username}/stats\"\n",
    "    try:\n",
    "        response = requests.get(stats_url)\n",
    "        if response.status_code == 200:\n",
    "            stats = response.json()\n",
    "            fide = stats[\"fide\"]\n",
    "            # Rapid\n",
    "            rapid_rating_best = stats[\"chess_rapid\"][\"best\"][\"rating\"]\n",
    "            rapid_rating_last = stats[\"chess_rapid\"][\"last\"][\"rating\"]\n",
    "            rapid_rating_rd = stats[\"chess_rapid\"][\"last\"][\"rd\"]\n",
    "            rapid_record_win = stats[\"chess_rapid\"][\"record\"][\"win\"]\n",
    "            rapid_record_draw = stats[\"chess_rapid\"][\"record\"][\"draw\"]\n",
    "            rapid_record_loss = stats[\"chess_rapid\"][\"record\"][\"loss\"]\n",
    "            # Blitz\n",
    "            blitz_rating_best = stats[\"chess_blitz\"][\"best\"][\"rating\"]\n",
    "            blitz_rating_last = stats[\"chess_blitz\"][\"last\"][\"rating\"]\n",
    "            blitz_rating_rd = stats[\"chess_blitz\"][\"last\"][\"rd\"]\n",
    "            blitz_record_win = stats[\"chess_blitz\"][\"record\"][\"win\"]\n",
    "            blitz_record_draw = stats[\"chess_blitz\"][\"record\"][\"draw\"]\n",
    "            blitz_record_loss = stats[\"chess_blitz\"][\"record\"][\"loss\"]\n",
    "            # Bullet\n",
    "            bullet_rating_best = stats[\"chess_bullet\"][\"best\"][\"rating\"]\n",
    "            bullet_rating_last = stats[\"chess_bullet\"][\"last\"][\"rating\"]\n",
    "            bullet_rating_rd = stats[\"chess_bullet\"][\"last\"][\"rd\"]\n",
    "            bullet_record_win = stats[\"chess_bullet\"][\"record\"][\"win\"]\n",
    "            bullet_record_draw = stats[\"chess_bullet\"][\"record\"][\"draw\"]\n",
    "            bullet_record_loss = stats[\"chess_bullet\"][\"record\"][\"loss\"]\n",
    "            # Stats\n",
    "            title_stats.append({\n",
    "                \"username\": username,\n",
    "                \"fide\": fide,\n",
    "                \"rapid_rating_best\": rapid_rating_best,\n",
    "                \"rapid_rating_last\": rapid_rating_last,\n",
    "                \"rapid_rating_rd\": rapid_rating_rd,\n",
    "                \"rapid_record_win\": rapid_record_win,\n",
    "                \"rapid_record_draw\": rapid_record_draw,\n",
    "                \"rapid_record_loss\": rapid_record_loss,\n",
    "                \"blitz_rating_best\": blitz_rating_best,\n",
    "                \"blitz_rating_last\": blitz_rating_last,\n",
    "                \"blitz_rating_rd\": blitz_rating_rd,\n",
    "                \"blitz_record_win\": blitz_record_win,\n",
    "                \"blitz_record_draw\": blitz_record_draw,\n",
    "                \"blitz_record_loss\": blitz_record_loss,\n",
    "                \"bullet_rating_best\": bullet_rating_best,\n",
    "                \"bullet_rating_last\": bullet_rating_last,\n",
    "                \"bullet_rating_rd\": bullet_rating_rd,\n",
    "                \"bullet_record_win\": bullet_record_win,\n",
    "                \"bullet_record_draw\": bullet_record_draw,\n",
    "                \"bullet_record_loss\": bullet_record_loss\n",
    "            })\n",
    "        else:\n",
    "            title_stats.append({\n",
    "                \"username\": username,\n",
    "                \"fide\": 0,\n",
    "                \"rapid_rating_best\": 0,\n",
    "                \"rapid_rating_last\": 0,\n",
    "                \"rapid_rating_rd\": 0,\n",
    "                \"rapid_record_win\": 0,\n",
    "                \"rapid_record_draw\": 0,\n",
    "                \"rapid_record_loss\": 0,\n",
    "                \"blitz_rating_best\": 0,\n",
    "                \"blitz_rating_last\": 0,\n",
    "                \"blitz_rating_rd\": 0,\n",
    "                \"blitz_record_win\": 0,\n",
    "                \"blitz_record_draw\": 0,\n",
    "                \"blitz_record_loss\": 0,\n",
    "                \"bullet_rating_best\": 0,\n",
    "                \"bullet_rating_last\": 0,\n",
    "                \"bullet_rating_rd\": 0,\n",
    "                \"bullet_record_win\": 0,\n",
    "                \"bullet_record_draw\": 0,\n",
    "                \"bullet_record_loss\": 0\n",
    "            })\n",
    "            print(response.status_code)\n",
    "    except:\n",
    "        title_stats.append({\n",
    "            \"username\": username,\n",
    "            \"fide\": 0,\n",
    "            \"rapid_rating_best\": 0,\n",
    "            \"rapid_rating_last\": 0,\n",
    "            \"rapid_rating_rd\": 0,\n",
    "            \"rapid_record_win\": 0,\n",
    "            \"rapid_record_draw\": 0,\n",
    "            \"rapid_record_loss\": 0,\n",
    "            \"blitz_rating_best\": 0,\n",
    "            \"blitz_rating_last\": 0,\n",
    "            \"blitz_rating_rd\": 0,\n",
    "            \"blitz_record_win\": 0,\n",
    "            \"blitz_record_draw\": 0,\n",
    "            \"blitz_record_loss\": 0,\n",
    "            \"bullet_rating_best\": 0,\n",
    "            \"bullet_rating_last\": 0,\n",
    "            \"bullet_rating_rd\": 0,\n",
    "            \"bullet_record_win\": 0,\n",
    "            \"bullet_record_draw\": 0,\n",
    "            \"bullet_record_loss\": 0\n",
    "        })\n",
    "        print(\"Error\")\n",
    "\n",
    "title_profiles_data_frame = pandas.DataFrame.from_dict(title_profiles)\n",
    "title_profiles_data_frame.to_csv(r'data/csv/title_stats.csv', index = False, header = True)"
   ]
  }
 ],
 "metadata": {
  "kernelspec": {
   "display_name": "Python 3",
   "language": "python",
   "name": "python3"
  },
  "language_info": {
   "codemirror_mode": {
    "name": "ipython",
    "version": 3
   },
   "file_extension": ".py",
   "mimetype": "text/x-python",
   "name": "python",
   "nbconvert_exporter": "python",
   "pygments_lexer": "ipython3",
   "version": "3.11.1"
  },
  "orig_nbformat": 4
 },
 "nbformat": 4,
 "nbformat_minor": 2
}
