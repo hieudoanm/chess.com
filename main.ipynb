{
 "cells": [
  {
   "attachments": {},
   "cell_type": "markdown",
   "metadata": {},
   "source": [
    "# chess.com"
   ]
  },
  {
   "cell_type": "code",
   "execution_count": 100,
   "metadata": {},
   "outputs": [],
   "source": [
    "import concurrent.futures\n",
    "import pandas\n",
    "import requests\n",
    "from tqdm.notebook import tqdm"
   ]
  },
  {
   "attachments": {},
   "cell_type": "markdown",
   "metadata": {},
   "source": [
    "## Utils"
   ]
  },
  {
   "cell_type": "code",
   "execution_count": 101,
   "metadata": {},
   "outputs": [],
   "source": [
    "def chunks(list, n):\n",
    "    # looping till length l\n",
    "    for i in range(0, len(list), n):\n",
    "        yield list[i:i + n]"
   ]
  },
  {
   "attachments": {},
   "cell_type": "markdown",
   "metadata": {},
   "source": [
    "## Declare API"
   ]
  },
  {
   "cell_type": "code",
   "execution_count": 102,
   "metadata": {},
   "outputs": [],
   "source": [
    "MAIN_API = \"https://api.chess.com/pub\"\n",
    "PROXY_API = \"https://homapis.vercel.app/api/chess.com\""
   ]
  },
  {
   "attachments": {},
   "cell_type": "markdown",
   "metadata": {},
   "source": [
    "## Get Titled Players"
   ]
  },
  {
   "cell_type": "code",
   "execution_count": 103,
   "metadata": {},
   "outputs": [
    {
     "data": {
      "application/vnd.jupyter.widget-view+json": {
       "model_id": "c50250a8e8884cf3a9d6900c9e2aee96",
       "version_major": 2,
       "version_minor": 0
      },
      "text/plain": [
       "  0%|          | 0/10 [00:00<?, ?it/s]"
      ]
     },
     "metadata": {},
     "output_type": "display_data"
    }
   ],
   "source": [
    "title_abbreviations = [\"GM\", \"WGM\", \"IM\", \"WIM\", \"FM\", \"WFM\", \"NM\", \"WNM\", \"CM\", \"WCM\"]\n",
    "\n",
    "title_players = []\n",
    "\n",
    "for title_abbreviation in tqdm(title_abbreviations):\n",
    "    url = f\"{MAIN_API}/titled/{title_abbreviation}\"\n",
    "    response = requests.get(url, timeout=10)\n",
    "    data = response.json()\n",
    "    players = data[\"players\"]\n",
    "    for player in players:\n",
    "        title_players.append({\n",
    "            \"username\": player,\n",
    "            \"title_abbreviation\": title_abbreviation\n",
    "        })\n",
    "\n",
    "title_players_data_frame = pandas.DataFrame.from_dict(title_players)\n",
    "title_players_data_frame.to_csv(r'data/csv/title_players.csv', index = False, header = True)"
   ]
  },
  {
   "attachments": {},
   "cell_type": "markdown",
   "metadata": {},
   "source": [
    "### Chunk Players"
   ]
  },
  {
   "cell_type": "code",
   "execution_count": 104,
   "metadata": {},
   "outputs": [],
   "source": [
    "chunks_title_players = list(chunks(title_players, 20))"
   ]
  },
  {
   "attachments": {},
   "cell_type": "markdown",
   "metadata": {},
   "source": [
    "# Get Titled Profiles"
   ]
  },
  {
   "attachments": {},
   "cell_type": "markdown",
   "metadata": {},
   "source": [
    "### Get Profile"
   ]
  },
  {
   "cell_type": "code",
   "execution_count": 105,
   "metadata": {},
   "outputs": [],
   "source": [
    "def get_profile(username):\n",
    "    profile_url = f\"{PROXY_API}/player/{username}\"\n",
    "    try:\n",
    "        response = requests.get(profile_url, timeout=10)\n",
    "        if response.status_code == 200:\n",
    "            profile = response.json()\n",
    "            return profile\n",
    "        else:\n",
    "            return {\n",
    "                \"username\": username\n",
    "            }\n",
    "    except:\n",
    "        return {\n",
    "            \"username\": username\n",
    "        }"
   ]
  },
  {
   "attachments": {},
   "cell_type": "markdown",
   "metadata": {},
   "source": [
    "### Get Profiles"
   ]
  },
  {
   "cell_type": "code",
   "execution_count": 106,
   "metadata": {},
   "outputs": [
    {
     "data": {
      "application/vnd.jupyter.widget-view+json": {
       "model_id": "4c4cfc22737547d59ae6a3e25b8e9693",
       "version_major": 2,
       "version_minor": 0
      },
      "text/plain": [
       "  0%|          | 0/558 [00:00<?, ?it/s]"
      ]
     },
     "metadata": {},
     "output_type": "display_data"
    }
   ],
   "source": [
    "title_profiles = []\n",
    "\n",
    "for chunk_title_players in tqdm(chunks_title_players):\n",
    "    usernames = list(map(lambda title_player: title_player[\"username\"], chunk_title_players))\n",
    "    with concurrent.futures.ThreadPoolExecutor() as executor:\n",
    "        futures = []\n",
    "        for username in usernames:\n",
    "            futures.append(executor.submit(get_profile, username=username))\n",
    "        for future in concurrent.futures.as_completed(futures):\n",
    "            profile = future.result()\n",
    "            title_profiles.append(profile)\n",
    "    title_profiles_data_frame = pandas.DataFrame.from_dict(title_profiles)\n",
    "    title_profiles_data_frame.to_csv(r'data/csv/title_profiles.csv', index = False, header = True)"
   ]
  },
  {
   "attachments": {},
   "cell_type": "markdown",
   "metadata": {},
   "source": [
    "## Get Title Stats"
   ]
  },
  {
   "attachments": {},
   "cell_type": "markdown",
   "metadata": {},
   "source": [
    "### Get Player's Stats"
   ]
  },
  {
   "cell_type": "code",
   "execution_count": 129,
   "metadata": {},
   "outputs": [],
   "source": [
    "def get_stats(username):\n",
    "    stats_url = f\"{PROXY_API}/player/{username}/stats\"\n",
    "    try:\n",
    "        response = requests.get(stats_url, timeout=10)\n",
    "        if response.status_code == 200:\n",
    "            stats = response.json()\n",
    "            fide = stats.get(\"fide\", 0)\n",
    "            # Rapid\n",
    "            rapid_rating_best = stats.get(\"chess_rapid\", {}).get(\"best\", {}).get(\"rating\", 0)\n",
    "            rapid_rating_last = stats.get(\"chess_rapid\", {}).get(\"last\", {}).get(\"rating\", 0)\n",
    "            rapid_rating_rd = stats.get(\"chess_rapid\", {}).get(\"last\", {}).get(\"rd\", 0)\n",
    "            rapid_record_win = stats.get(\"chess_rapid\", {}).get(\"record\", {}).get(\"win\", 0)\n",
    "            rapid_record_draw = stats.get(\"chess_rapid\", {}).get(\"record\", {}).get(\"draw\", 0)\n",
    "            rapid_record_loss = stats.get(\"chess_rapid\", {}).get(\"record\", {}).get(\"loss\", 0)\n",
    "            # Blitz\n",
    "            blitz_rating_best = stats.get(\"chess_blitz\", {}).get(\"best\", {}).get(\"rating\", 0)\n",
    "            blitz_rating_last = stats.get(\"chess_blitz\", {}).get(\"last\", {}).get(\"rating\", 0)\n",
    "            blitz_rating_rd = stats.get(\"chess_blitz\", {}).get(\"last\", {}).get(\"rd\", 0)\n",
    "            blitz_record_win = stats.get(\"chess_blitz\", {}).get(\"record\", {}).get(\"win\", 0)\n",
    "            blitz_record_draw = stats.get(\"chess_blitz\", {}).get(\"record\", {}).get(\"draw\", 0)\n",
    "            blitz_record_loss = stats.get(\"chess_blitz\", {}).get(\"record\", {}).get(\"loss\", 0)\n",
    "            # Bullet\n",
    "            bullet_rating_best = stats.get(\"chess_bullet\", {}).get(\"best\", {}).get(\"rating\", 0)\n",
    "            bullet_rating_last = stats.get(\"chess_bullet\", {}).get(\"last\", {}).get(\"rating\", 0)\n",
    "            bullet_rating_rd = stats.get(\"chess_bullet\", {}).get(\"last\", {}).get(\"rd\", 0)\n",
    "            bullet_record_win = stats.get(\"chess_bullet\", {}).get(\"record\", {}).get(\"win\", 0)\n",
    "            bullet_record_draw = stats.get(\"chess_bullet\", {}).get(\"record\", {}).get(\"draw\", 0)\n",
    "            bullet_record_loss = stats.get(\"chess_bullet\", {}).get(\"record\", {}).get(\"loss\", 0)\n",
    "            return {\n",
    "                \"username\": username,\n",
    "                \"fide\": fide,\n",
    "                \"rapid_rating_best\": rapid_rating_best,\n",
    "                \"rapid_rating_last\": rapid_rating_last,\n",
    "                \"rapid_rating_rd\": rapid_rating_rd,\n",
    "                \"rapid_record_win\": rapid_record_win,\n",
    "                \"rapid_record_draw\": rapid_record_draw,\n",
    "                \"rapid_record_loss\": rapid_record_loss,\n",
    "                \"blitz_rating_best\": blitz_rating_best,\n",
    "                \"blitz_rating_last\": blitz_rating_last,\n",
    "                \"blitz_rating_rd\": blitz_rating_rd,\n",
    "                \"blitz_record_win\": blitz_record_win,\n",
    "                \"blitz_record_draw\": blitz_record_draw,\n",
    "                \"blitz_record_loss\": blitz_record_loss,\n",
    "                \"bullet_rating_best\": bullet_rating_best,\n",
    "                \"bullet_rating_last\": bullet_rating_last,\n",
    "                \"bullet_rating_rd\": bullet_rating_rd,\n",
    "                \"bullet_record_win\": bullet_record_win,\n",
    "                \"bullet_record_draw\": bullet_record_draw,\n",
    "                \"bullet_record_loss\": bullet_record_loss\n",
    "            }\n",
    "        else:\n",
    "            print(username, response.status_code)\n",
    "            return {\n",
    "                \"username\": username\n",
    "            }\n",
    "    except Exception as error:\n",
    "        print(username, error)\n",
    "        return {\n",
    "            \"username\": username\n",
    "        }"
   ]
  },
  {
   "attachments": {},
   "cell_type": "markdown",
   "metadata": {},
   "source": [
    "### Get All Stats"
   ]
  },
  {
   "cell_type": "code",
   "execution_count": 130,
   "metadata": {},
   "outputs": [
    {
     "data": {
      "application/vnd.jupyter.widget-view+json": {
       "model_id": "288ed50cb905412996c46feb11e3c63f",
       "version_major": 2,
       "version_minor": 0
      },
      "text/plain": [
       "  0%|          | 0/558 [00:00<?, ?it/s]"
      ]
     },
     "metadata": {},
     "output_type": "display_data"
    },
    {
     "name": "stdout",
     "output_type": "stream",
     "text": [
      "esquiviaeusebius HTTPSConnectionPool(host='homapis.vercel.app', port=443): Read timed out. (read timeout=10)\n",
      " HTTPSConnectionPool(host='homapis.vercel.app', port=443): Read timed out. (read timeout=10)\n",
      "estudiaajedrez HTTPSConnectionPool(host='homapis.vercel.app', port=443): Read timed out. (read timeout=10)\n",
      "estacio99 HTTPSConnectionPool(host='homapis.vercel.app', port=443): Read timed out. (read timeout=10)\n",
      "esskeettit HTTPSConnectionPool(host='homapis.vercel.app', port=443): Read timed out. (read timeout=10)\n",
      "essequamvideris HTTPSConnectionPool(host='homapis.vercel.app', port=443): Read timed out. (read timeout=10)\n",
      "et_050673g HTTPSConnectionPool(host='homapis.vercel.app', port=443): Read timed out. (read timeout=10)\n",
      "ethanli-ny HTTPSConnectionPool(host='homapis.vercel.app', port=443): Read timed out. (read timeout=10)\n",
      "estudiando_ajedrez HTTPSConnectionPool(host='homapis.vercel.app', port=443): Read timed out. (read timeout=10)\n",
      "eugenedelacroix HTTPSConnectionPool(host='homapis.vercel.app', port=443): Read timed out. (read timeout=10)\n",
      "etopak1 HTTPSConnectionPool(host='homapis.vercel.app', port=443): Read timed out. (read timeout=10)\n",
      "eulero78 HTTPSConnectionPool(host='homapis.vercel.app', port=443): Read timed out. (read timeout=10)\n",
      "elgrona HTTPSConnectionPool(host='homapis.vercel.app', port=443): Read timed out. (read timeout=10)\n"
     ]
    }
   ],
   "source": [
    "title_stats = []\n",
    "\n",
    "for chunk_title_players in tqdm(chunks_title_players):\n",
    "    usernames = list(map(lambda title_player: title_player[\"username\"], chunk_title_players))\n",
    "    with concurrent.futures.ThreadPoolExecutor() as executor:\n",
    "        futures = []\n",
    "        for username in usernames:\n",
    "            futures.append(executor.submit(get_stats, username=username))\n",
    "        for future in concurrent.futures.as_completed(futures):\n",
    "            stats = future.result()\n",
    "            title_stats.append(stats)\n",
    "    title_stats_data_frame = pandas.DataFrame.from_dict(title_stats)\n",
    "    title_stats_data_frame.to_csv(r'data/csv/title_stats.csv', index = False, header = True)"
   ]
  }
 ],
 "metadata": {
  "kernelspec": {
   "display_name": "Python 3",
   "language": "python",
   "name": "python3"
  },
  "language_info": {
   "codemirror_mode": {
    "name": "ipython",
    "version": 3
   },
   "file_extension": ".py",
   "mimetype": "text/x-python",
   "name": "python",
   "nbconvert_exporter": "python",
   "pygments_lexer": "ipython3",
   "version": "3.11.2"
  },
  "orig_nbformat": 4
 },
 "nbformat": 4,
 "nbformat_minor": 2
}
