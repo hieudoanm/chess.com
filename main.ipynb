{
 "cells": [
  {
   "attachments": {},
   "cell_type": "markdown",
   "metadata": {},
   "source": [
    "# chess.com"
   ]
  },
  {
   "cell_type": "code",
   "execution_count": 68,
   "metadata": {},
   "outputs": [],
   "source": [
    "import concurrent.futures\n",
    "import matplotlib.pyplot as plt\n",
    "import pandas\n",
    "import requests\n",
    "from requests.adapters import HTTPAdapter, Retry\n",
    "from tqdm.notebook import tqdm"
   ]
  },
  {
   "attachments": {},
   "cell_type": "markdown",
   "metadata": {},
   "source": [
    "## Utils"
   ]
  },
  {
   "cell_type": "code",
   "execution_count": 69,
   "metadata": {},
   "outputs": [],
   "source": [
    "def chunks(list, n):\n",
    "    # looping till length l\n",
    "    for i in range(0, len(list), n):\n",
    "        yield list[i:i + n]\n",
    "\n",
    "session = requests.Session()\n",
    "retries = Retry(total=5)\n",
    "session.mount('https://', HTTPAdapter(max_retries=retries))"
   ]
  },
  {
   "attachments": {},
   "cell_type": "markdown",
   "metadata": {},
   "source": [
    "## Declare API"
   ]
  },
  {
   "cell_type": "code",
   "execution_count": 70,
   "metadata": {},
   "outputs": [],
   "source": [
    "CHUNK_SIZE = 1000\n",
    "\n",
    "MAIN_API = \"https://api.chess.com/pub\"\n",
    "PROXY_API = \"https://homapis.vercel.app/api/chess.com\""
   ]
  },
  {
   "attachments": {},
   "cell_type": "markdown",
   "metadata": {},
   "source": [
    "## Get Titled Players"
   ]
  },
  {
   "cell_type": "code",
   "execution_count": 71,
   "metadata": {},
   "outputs": [
    {
     "data": {
      "application/vnd.jupyter.widget-view+json": {
       "model_id": "00e034d4644e44e0bfa5941a6bb71d34",
       "version_major": 2,
       "version_minor": 0
      },
      "text/plain": [
       "  0%|          | 0/10 [00:00<?, ?it/s]"
      ]
     },
     "metadata": {},
     "output_type": "display_data"
    }
   ],
   "source": [
    "title_abbreviations = [\"GM\", \"WGM\", \"IM\", \"WIM\", \"FM\", \"WFM\", \"NM\", \"WNM\", \"CM\", \"WCM\"]\n",
    "\n",
    "title_players = []\n",
    "\n",
    "for title_abbreviation in tqdm(title_abbreviations):\n",
    "    url = f\"{MAIN_API}/titled/{title_abbreviation}\"\n",
    "    response = session.get(url, timeout=10)\n",
    "    data = response.json()\n",
    "    players = data[\"players\"]\n",
    "    for player in players:\n",
    "        title_players.append({\n",
    "            \"username\": player,\n",
    "            \"title_abbreviation\": title_abbreviation\n",
    "        })\n",
    "\n",
    "title_players_data_frame = pandas.DataFrame.from_dict(title_players)\n",
    "sorted_title_players_data_frame = title_players_data_frame.sort_values(by = [\"username\"], ascending = True)\n",
    "sorted_title_players_data_frame.to_csv(r'data/csv/title_players.csv', index = False, header = True)"
   ]
  },
  {
   "attachments": {},
   "cell_type": "markdown",
   "metadata": {},
   "source": [
    "### Chunk Title Players"
   ]
  },
  {
   "cell_type": "code",
   "execution_count": 72,
   "metadata": {},
   "outputs": [],
   "source": [
    "chunks_title_players = list(chunks(title_players, CHUNK_SIZE))"
   ]
  },
  {
   "attachments": {},
   "cell_type": "markdown",
   "metadata": {},
   "source": [
    "# Get Titled Profiles"
   ]
  },
  {
   "attachments": {},
   "cell_type": "markdown",
   "metadata": {},
   "source": [
    "### Get Profile"
   ]
  },
  {
   "cell_type": "code",
   "execution_count": 73,
   "metadata": {},
   "outputs": [],
   "source": [
    "def get_profile(username):\n",
    "    profile_url = f\"{PROXY_API}/player/{username}\"\n",
    "    try:\n",
    "        response = session.get(profile_url, timeout=10)\n",
    "        if response.status_code == 200:\n",
    "            profile = response.json()\n",
    "            return profile\n",
    "        else:\n",
    "            print(username, response.status_code)\n",
    "            return {\n",
    "                \"username\": username\n",
    "            }\n",
    "    except Exception as error:\n",
    "        print(username, error)\n",
    "        return {\n",
    "            \"username\": username\n",
    "        }"
   ]
  },
  {
   "attachments": {},
   "cell_type": "markdown",
   "metadata": {},
   "source": [
    "### Get Profiles"
   ]
  },
  {
   "cell_type": "code",
   "execution_count": 74,
   "metadata": {},
   "outputs": [
    {
     "data": {
      "application/vnd.jupyter.widget-view+json": {
       "model_id": "27b95651d6e141f88254d7230768fb47",
       "version_major": 2,
       "version_minor": 0
      },
      "text/plain": [
       "  0%|          | 0/12 [00:00<?, ?it/s]"
      ]
     },
     "metadata": {},
     "output_type": "display_data"
    }
   ],
   "source": [
    "title_profiles = []\n",
    "\n",
    "for chunk_title_players in tqdm(chunks_title_players):\n",
    "    usernames = list(map(lambda title_player: title_player[\"username\"], chunk_title_players))\n",
    "    with concurrent.futures.ThreadPoolExecutor() as executor:\n",
    "        futures = []\n",
    "        for username in usernames:\n",
    "            futures.append(executor.submit(get_profile, username=username))\n",
    "        for future in concurrent.futures.as_completed(futures):\n",
    "            profile = future.result()\n",
    "            title_profiles.append(profile)\n",
    "    title_profiles_data_frame = pandas.DataFrame.from_dict(title_profiles)\n",
    "    sorted_title_profiles_data_frame = title_profiles_data_frame.sort_values(by = [\"username\"], ascending = True)\n",
    "    sorted_title_profiles_data_frame.to_csv(r'data/csv/title_profiles.csv', index = False, header = True)"
   ]
  },
  {
   "attachments": {},
   "cell_type": "markdown",
   "metadata": {},
   "source": [
    "### Get Verified Profiles"
   ]
  },
  {
   "cell_type": "code",
   "execution_count": 75,
   "metadata": {},
   "outputs": [],
   "source": [
    "verified_title_profiles = list(filter(lambda title_profile: title_profile[\"verified\"], title_profiles))\n",
    "\n",
    "verified_title_profiles_data_frame = pandas.DataFrame.from_dict(verified_title_profiles)\n",
    "sorted_verified_title_profiles_data_frame = verified_title_profiles_data_frame.sort_values(by = [\"username\"], ascending = True)\n",
    "sorted_verified_title_profiles_data_frame.to_csv(r'data/csv/verified_title_profiles.csv', index = False, header = True)"
   ]
  },
  {
   "attachments": {},
   "cell_type": "markdown",
   "metadata": {},
   "source": [
    "### Chunk Verified Profiles"
   ]
  },
  {
   "cell_type": "code",
   "execution_count": 77,
   "metadata": {},
   "outputs": [],
   "source": [
    "chunks_verified_title_profiles = list(chunks(verified_title_profiles, CHUNK_SIZE))"
   ]
  },
  {
   "attachments": {},
   "cell_type": "markdown",
   "metadata": {},
   "source": [
    "## Get Title Stats"
   ]
  },
  {
   "attachments": {},
   "cell_type": "markdown",
   "metadata": {},
   "source": [
    "### Get Player's Stats"
   ]
  },
  {
   "cell_type": "code",
   "execution_count": 78,
   "metadata": {},
   "outputs": [],
   "source": [
    "def get_stats(username):\n",
    "    stats_url = f\"{PROXY_API}/player/{username}/stats\"\n",
    "    try:\n",
    "        response = session.get(stats_url, timeout=10)\n",
    "        if response.status_code == 200:\n",
    "            stats = response.json()\n",
    "            fide = stats.get(\"fide\", 0)\n",
    "            # Rapid\n",
    "            rapid_rating_best = stats.get(\"chess_rapid\", {}).get(\"best\", {}).get(\"rating\", 0)\n",
    "            rapid_rating_last = stats.get(\"chess_rapid\", {}).get(\"last\", {}).get(\"rating\", 0)\n",
    "            rapid_rating_rd = stats.get(\"chess_rapid\", {}).get(\"last\", {}).get(\"rd\", 0)\n",
    "            rapid_record_win = stats.get(\"chess_rapid\", {}).get(\"record\", {}).get(\"win\", 0)\n",
    "            rapid_record_draw = stats.get(\"chess_rapid\", {}).get(\"record\", {}).get(\"draw\", 0)\n",
    "            rapid_record_loss = stats.get(\"chess_rapid\", {}).get(\"record\", {}).get(\"loss\", 0)\n",
    "            # Blitz\n",
    "            blitz_rating_best = stats.get(\"chess_blitz\", {}).get(\"best\", {}).get(\"rating\", 0)\n",
    "            blitz_rating_last = stats.get(\"chess_blitz\", {}).get(\"last\", {}).get(\"rating\", 0)\n",
    "            blitz_rating_rd = stats.get(\"chess_blitz\", {}).get(\"last\", {}).get(\"rd\", 0)\n",
    "            blitz_record_win = stats.get(\"chess_blitz\", {}).get(\"record\", {}).get(\"win\", 0)\n",
    "            blitz_record_draw = stats.get(\"chess_blitz\", {}).get(\"record\", {}).get(\"draw\", 0)\n",
    "            blitz_record_loss = stats.get(\"chess_blitz\", {}).get(\"record\", {}).get(\"loss\", 0)\n",
    "            # Bullet\n",
    "            bullet_rating_best = stats.get(\"chess_bullet\", {}).get(\"best\", {}).get(\"rating\", 0)\n",
    "            bullet_rating_last = stats.get(\"chess_bullet\", {}).get(\"last\", {}).get(\"rating\", 0)\n",
    "            bullet_rating_rd = stats.get(\"chess_bullet\", {}).get(\"last\", {}).get(\"rd\", 0)\n",
    "            bullet_record_win = stats.get(\"chess_bullet\", {}).get(\"record\", {}).get(\"win\", 0)\n",
    "            bullet_record_draw = stats.get(\"chess_bullet\", {}).get(\"record\", {}).get(\"draw\", 0)\n",
    "            bullet_record_loss = stats.get(\"chess_bullet\", {}).get(\"record\", {}).get(\"loss\", 0)\n",
    "            return {\n",
    "                \"username\": username,\n",
    "                \"fide\": fide,\n",
    "                \"rapid_rating_best\": rapid_rating_best,\n",
    "                \"rapid_rating_last\": rapid_rating_last,\n",
    "                \"rapid_rating_rd\": rapid_rating_rd,\n",
    "                \"rapid_record_win\": rapid_record_win,\n",
    "                \"rapid_record_draw\": rapid_record_draw,\n",
    "                \"rapid_record_loss\": rapid_record_loss,\n",
    "                \"blitz_rating_best\": blitz_rating_best,\n",
    "                \"blitz_rating_last\": blitz_rating_last,\n",
    "                \"blitz_rating_rd\": blitz_rating_rd,\n",
    "                \"blitz_record_win\": blitz_record_win,\n",
    "                \"blitz_record_draw\": blitz_record_draw,\n",
    "                \"blitz_record_loss\": blitz_record_loss,\n",
    "                \"bullet_rating_best\": bullet_rating_best,\n",
    "                \"bullet_rating_last\": bullet_rating_last,\n",
    "                \"bullet_rating_rd\": bullet_rating_rd,\n",
    "                \"bullet_record_win\": bullet_record_win,\n",
    "                \"bullet_record_draw\": bullet_record_draw,\n",
    "                \"bullet_record_loss\": bullet_record_loss\n",
    "            }\n",
    "        else:\n",
    "            print(username, response.status_code)\n",
    "            return {\n",
    "                \"username\": username\n",
    "            }\n",
    "    except Exception as error:\n",
    "        print(username, error)\n",
    "        return {\n",
    "            \"username\": username\n",
    "        }"
   ]
  },
  {
   "attachments": {},
   "cell_type": "markdown",
   "metadata": {},
   "source": [
    "### Get All Stats"
   ]
  },
  {
   "cell_type": "code",
   "execution_count": 79,
   "metadata": {},
   "outputs": [
    {
     "data": {
      "application/vnd.jupyter.widget-view+json": {
       "model_id": "314d3d24bf6f4cca8201064e9098fb10",
       "version_major": 2,
       "version_minor": 0
      },
      "text/plain": [
       "  0%|          | 0/12 [00:00<?, ?it/s]"
      ]
     },
     "metadata": {},
     "output_type": "display_data"
    }
   ],
   "source": [
    "title_stats = []\n",
    "\n",
    "for chunk_title_players in tqdm(chunks_title_players):\n",
    "    usernames = list(map(lambda title_player: title_player[\"username\"], chunk_title_players))\n",
    "    with concurrent.futures.ThreadPoolExecutor() as executor:\n",
    "        futures = []\n",
    "        for username in usernames:\n",
    "            futures.append(executor.submit(get_stats, username=username))\n",
    "        for future in concurrent.futures.as_completed(futures):\n",
    "            stats = future.result()\n",
    "            title_stats.append(stats)\n",
    "    title_stats_data_frame = pandas.DataFrame.from_dict(title_stats)\n",
    "    sorted_title_stats_data_frame = title_stats_data_frame.sort_values(by = [\"username\"], ascending = True)\n",
    "    sorted_title_stats_data_frame.to_csv(r'data/csv/title_stats.csv', index = False, header = True)"
   ]
  },
  {
   "attachments": {},
   "cell_type": "markdown",
   "metadata": {},
   "source": [
    "### Get Verified Stats"
   ]
  },
  {
   "cell_type": "code",
   "execution_count": 80,
   "metadata": {},
   "outputs": [
    {
     "data": {
      "application/vnd.jupyter.widget-view+json": {
       "model_id": "fb85763cd977459cb4de99cc38c56413",
       "version_major": 2,
       "version_minor": 0
      },
      "text/plain": [
       "  0%|          | 0/1 [00:00<?, ?it/s]"
      ]
     },
     "metadata": {},
     "output_type": "display_data"
    }
   ],
   "source": [
    "verified_title_stats = []\n",
    "\n",
    "for chunk_verified_title_profiles in tqdm(chunks_verified_title_profiles):\n",
    "    usernames = list(map(lambda title_player: title_player[\"username\"], chunk_verified_title_profiles))\n",
    "    with concurrent.futures.ThreadPoolExecutor() as executor:\n",
    "        futures = []\n",
    "        for username in usernames:\n",
    "            futures.append(executor.submit(get_stats, username=username))\n",
    "        for future in concurrent.futures.as_completed(futures):\n",
    "            stats = future.result()\n",
    "            verified_title_stats.append(stats)\n",
    "    verified_title_stats_data_frame = pandas.DataFrame.from_dict(verified_title_stats)\n",
    "    sorted_verified_title_stats_data_frame = verified_title_stats_data_frame.sort_values(by = [\"username\"], ascending = True)\n",
    "    sorted_verified_title_stats_data_frame.to_csv(r'data/csv/verified_title_stats.csv', index = False, header = True)"
   ]
  },
  {
   "attachments": {},
   "cell_type": "markdown",
   "metadata": {},
   "source": [
    "## Merge Profiles and Stats"
   ]
  },
  {
   "cell_type": "code",
   "execution_count": 81,
   "metadata": {},
   "outputs": [],
   "source": [
    "verified_title_players_data_frame = pandas.merge(verified_title_profiles_data_frame, verified_title_stats_data_frame)\n",
    "sorted_verified_title_players_data_frame = verified_title_players_data_frame.sort_values(by = [\"username\"], ascending = True)\n",
    "sorted_verified_title_players_data_frame.to_csv(r'data/csv/verified_title_players.csv', index = False, header = True)"
   ]
  },
  {
   "attachments": {},
   "cell_type": "markdown",
   "metadata": {},
   "source": [
    "## Analyse Verified Title Players"
   ]
  },
  {
   "attachments": {},
   "cell_type": "markdown",
   "metadata": {},
   "source": [
    "### Filter Top Title"
   ]
  },
  {
   "cell_type": "code",
   "execution_count": 82,
   "metadata": {},
   "outputs": [],
   "source": [
    "TOP_TITLE = [\"FM\", \"IM\", \"GM\"]\n",
    "\n",
    "verified_title_players = verified_title_players_data_frame.to_dict('records')\n",
    "verified_top_title_players = list(filter(lambda title_player: title_player[\"title\"] in TOP_TITLE, verified_title_players))\n",
    "\n",
    "verified_top_title_stats_data_frame = pandas.DataFrame.from_dict(verified_top_title_players)\n",
    "sorted_verified_top_title_stats_data_frame = verified_top_title_stats_data_frame.sort_values(by = [\"username\"], ascending = True)\n",
    "sorted_verified_top_title_stats_data_frame.to_csv(r'data/csv/verified_top_title_players.csv', index = False, header = True)"
   ]
  },
  {
   "attachments": {},
   "cell_type": "markdown",
   "metadata": {},
   "source": [
    "### Check Rapid Best Rating"
   ]
  },
  {
   "cell_type": "code",
   "execution_count": 83,
   "metadata": {},
   "outputs": [
    {
     "data": {
      "image/png": "[encoded data removed]",
      "text/plain": [
       "<Figure size 640x480 with 1 Axes>"
      ]
     },
     "metadata": {},
     "output_type": "display_data"
    }
   ],
   "source": [
    "rapid_rating_best_verified_title_players = list(map(lambda title_player: title_player[\"rapid_rating_best\"], verified_top_title_players))\n",
    "rapid_rating_best_verified_title_players = list(filter(lambda rapid_rating_best: rapid_rating_best > 0, rapid_rating_best_verified_title_players))\n",
    "\n",
    "plt.hist(rapid_rating_best_verified_title_players, 100)\n",
    "plt.title(\"Rapid - Best Rating - Distribution\")\n",
    "plt.xlabel(\"Rapid - Best Rating\")\n",
    "plt.ylabel(\"Distribution\")\n",
    "plt.show()"
   ]
  },
  {
   "attachments": {},
   "cell_type": "markdown",
   "metadata": {},
   "source": [
    "### Check Blitz Best Rating"
   ]
  },
  {
   "cell_type": "code",
   "execution_count": 84,
   "metadata": {},
   "outputs": [
    {
     "data": {
      "image/png": "[encoded data removed]",
      "text/plain": [
       "<Figure size 640x480 with 1 Axes>"
      ]
     },
     "metadata": {},
     "output_type": "display_data"
    }
   ],
   "source": [
    "blitz_rating_best_verified_title_players = list(map(lambda title_player: title_player[\"blitz_rating_best\"], verified_top_title_players))\n",
    "blitz_rating_best_verified_title_players = list(filter(lambda rapid_rating_best: rapid_rating_best > 0, blitz_rating_best_verified_title_players))\n",
    "\n",
    "plt.hist(blitz_rating_best_verified_title_players, 100)\n",
    "plt.title(\"Blitz - Best Rating - Distribution\")\n",
    "plt.xlabel(\"Blitz - Best Rating\")\n",
    "plt.ylabel(\"Distribution\")\n",
    "plt.show()"
   ]
  },
  {
   "attachments": {},
   "cell_type": "markdown",
   "metadata": {},
   "source": [
    "### Check Bullet Best Rating"
   ]
  },
  {
   "cell_type": "code",
   "execution_count": 85,
   "metadata": {},
   "outputs": [
    {
     "data": {
      "image/png": "[encoded data removed]",
      "text/plain": [
       "<Figure size 640x480 with 1 Axes>"
      ]
     },
     "metadata": {},
     "output_type": "display_data"
    }
   ],
   "source": [
    "bullet_rating_best_verified_title_players = list(map(lambda title_player: title_player[\"bullet_rating_best\"], verified_top_title_players))\n",
    "bullet_rating_best_verified_title_players = list(filter(lambda rapid_rating_best: rapid_rating_best > 0, bullet_rating_best_verified_title_players))\n",
    "\n",
    "plt.hist(bullet_rating_best_verified_title_players, 100)\n",
    "plt.title(\"Bullet - Best Rating - Distribution\")\n",
    "plt.xlabel(\"Bullet - Best Rating\")\n",
    "plt.ylabel(\"Distribution\")\n",
    "plt.show()"
   ]
  }
 ],
 "metadata": {
  "kernelspec": {
   "display_name": "Python 3",
   "language": "python",
   "name": "python3"
  },
  "language_info": {
   "codemirror_mode": {
    "name": "ipython",
    "version": 3
   },
   "file_extension": ".py",
   "mimetype": "text/x-python",
   "name": "python",
   "nbconvert_exporter": "python",
   "pygments_lexer": "ipython3",
   "version": "3.11.2"
  },
  "orig_nbformat": 4
 },
 "nbformat": 4,
 "nbformat_minor": 2
}
