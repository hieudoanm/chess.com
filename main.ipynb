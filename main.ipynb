{
 "cells": [
  {
   "attachments": {},
   "cell_type": "markdown",
   "metadata": {},
   "source": [
    "# chess.com"
   ]
  },
  {
   "cell_type": "code",
   "execution_count": 25,
   "metadata": {},
   "outputs": [],
   "source": [
    "import pandas\n",
    "import requests\n",
    "from tqdm.notebook import tqdm"
   ]
  },
  {
   "cell_type": "code",
   "execution_count": 26,
   "metadata": {},
   "outputs": [],
   "source": [
    "API = \"https://api.chess.com/pub\""
   ]
  },
  {
   "attachments": {},
   "cell_type": "markdown",
   "metadata": {},
   "source": [
    "## Get Titled Players"
   ]
  },
  {
   "cell_type": "code",
   "execution_count": 27,
   "metadata": {},
   "outputs": [],
   "source": [
    "title_abbreviations = [\"GM\", \"WGM\", \"IM\", \"WIM\", \"FM\", \"WFM\", \"NM\", \"WNM\", \"CM\", \"WCM\"]\n",
    "\n",
    "title_players = []\n",
    "\n",
    "for title_abbreviation in title_abbreviations:\n",
    "    url = f\"{API}/titled/{title_abbreviation}\"\n",
    "    response = requests.get(url)\n",
    "    data = response.json()\n",
    "    players = data[\"players\"]\n",
    "    for player in players:\n",
    "        title_players.append({\n",
    "            \"username\": player,\n",
    "            \"title_abbreviation\": title_abbreviation\n",
    "        })\n",
    "\n",
    "title_players_data_frame = pandas.DataFrame.from_dict(title_players)\n",
    "title_players_data_frame.to_csv(r'data/csv/title_players.csv', index = False, header = True)"
   ]
  },
  {
   "attachments": {},
   "cell_type": "markdown",
   "metadata": {},
   "source": [
    "# Get Titled Profiles"
   ]
  },
  {
   "cell_type": "code",
   "execution_count": 28,
   "metadata": {},
   "outputs": [
    {
     "data": {
      "application/vnd.jupyter.widget-view+json": {
       "model_id": "65c79befac774009aa8a3219054077e8",
       "version_major": 2,
       "version_minor": 0
      },
      "text/plain": [
       "  0%|          | 0/11144 [00:00<?, ?it/s]"
      ]
     },
     "metadata": {},
     "output_type": "display_data"
    }
   ],
   "source": [
    "title_profiles = []\n",
    "\n",
    "for title_player in tqdm(title_players):\n",
    "    username: str = title_player[\"username\"]\n",
    "    profile_url = f\"{API}/player/{username}\"\n",
    "    response = requests.get(profile_url)\n",
    "    if response.status_code == 200:\n",
    "        profile = response.json()\n",
    "        title_profiles.append(profile)\n",
    "    else:\n",
    "        print(response.status_code)\n",
    "\n",
    "title_profiles_data_frame = pandas.DataFrame.from_dict(title_profiles)\n",
    "title_profiles_data_frame.to_csv(r'data/csv/title_profiles.csv', index = False, header = True)"
   ]
  }
 ],
 "metadata": {
  "kernelspec": {
   "display_name": "Python 3",
   "language": "python",
   "name": "python3"
  },
  "language_info": {
   "codemirror_mode": {
    "name": "ipython",
    "version": 3
   },
   "file_extension": ".py",
   "mimetype": "text/x-python",
   "name": "python",
   "nbconvert_exporter": "python",
   "pygments_lexer": "ipython3",
   "version": "3.11.2"
  },
  "orig_nbformat": 4
 },
 "nbformat": 4,
 "nbformat_minor": 2
}
